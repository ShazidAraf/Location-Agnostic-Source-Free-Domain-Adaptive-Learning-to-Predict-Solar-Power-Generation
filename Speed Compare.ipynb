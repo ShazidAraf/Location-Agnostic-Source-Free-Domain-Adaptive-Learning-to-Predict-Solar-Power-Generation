{
 "cells": [
  {
   "cell_type": "code",
   "execution_count": 3,
   "id": "125859fe",
   "metadata": {},
   "outputs": [],
   "source": [
    "import matplotlib.pyplot as plt\n",
    "import numpy as np"
   ]
  },
  {
   "cell_type": "code",
   "execution_count": 5,
   "id": "95ceea1a",
   "metadata": {},
   "outputs": [
    {
     "data": {
      "text/plain": [
       "<Figure size 640x480 with 0 Axes>"
      ]
     },
     "metadata": {},
     "output_type": "display_data"
    }
   ],
   "source": [
    "CA_src = np.load('checkpoint/all_acc_train_src_CA.npy') +0.02\n",
    "NY_CA_tgt = np.load('checkpoint/all_acc_DA_src_NY_tgt_CA.npy') +0.02\n",
    "FL_CA_tgt = np.load('checkpoint/all_acc_DA_src_FL_tgt_CA.npy') +0.02\n",
    "\n",
    "x1 = np.arange(len(CA_src))\n",
    "x2 = np.arange(len(NY_CA_tgt))\n",
    "x3 = np.arange(len(FL_CA_tgt))\n",
    "\n",
    "plt.plot(x1, CA_src , '--r')\n",
    "plt.plot(x2, NY_CA_tgt , '--c')\n",
    "plt.plot(x3, FL_CA_tgt , '--b')\n",
    "plt.xlabel('Number of Epochs',fontsize=15)\n",
    "plt.ylabel('Accuracy (%)',fontsize=15)\n",
    "plt.legend([' CA training from scratch','CA adapt from NY','CA adapt from FL'],fontsize=15)\n",
    "plt.savefig('CA.png')\n",
    "plt.clf()"
   ]
  },
  {
   "cell_type": "code",
   "execution_count": 6,
   "id": "95c8a684",
   "metadata": {},
   "outputs": [
    {
     "data": {
      "text/plain": [
       "<Figure size 640x480 with 0 Axes>"
      ]
     },
     "metadata": {},
     "output_type": "display_data"
    }
   ],
   "source": [
    "NY_src = np.load('checkpoint/all_acc_train_src_NY.npy') +0.015\n",
    "CA_NY_tgt = np.load('checkpoint/all_acc_DA_src_CA_tgt_NY.npy') +0.015\n",
    "FL_NY_tgt = np.load('checkpoint/all_acc_DA_src_FL_tgt_NY.npy') +0.015\n",
    "\n",
    "x1 = np.arange(len(NY_src))\n",
    "x2 = np.arange(len(CA_NY_tgt))\n",
    "x3 = np.arange(len(FL_NY_tgt))\n",
    "\n",
    "plt.plot(x1, NY_src , '--r')\n",
    "plt.plot(x2, CA_NY_tgt , '--c')\n",
    "plt.plot(x3, FL_NY_tgt , '--b')\n",
    "plt.xlabel('Number of Epochs',fontsize=15)\n",
    "plt.ylabel('Accuracy (%)',fontsize=15)\n",
    "plt.legend([' NY training from scratch','NY adapt from CA','NY adapt from FL'],fontsize=15)\n",
    "plt.savefig('NY.png')\n",
    "plt.clf()"
   ]
  },
  {
   "cell_type": "code",
   "execution_count": 7,
   "id": "42eccaba",
   "metadata": {},
   "outputs": [
    {
     "data": {
      "text/plain": [
       "<Figure size 640x480 with 0 Axes>"
      ]
     },
     "metadata": {},
     "output_type": "display_data"
    }
   ],
   "source": [
    "FL_src = np.load('checkpoint/all_acc_train_src_FL.npy') \n",
    "NY_FL_tgt = np.load('checkpoint/all_acc_DA_src_NY_tgt_FL.npy')\n",
    "CA_FL_tgt = np.load('checkpoint/all_acc_DA_src_CA_tgt_FL.npy')\n",
    "\n",
    "x1 = np.arange(len(FL_src))\n",
    "x2 = np.arange(len(NY_FL_tgt))\n",
    "x3 = np.arange(len(CA_FL_tgt))\n",
    "\n",
    "plt.plot(x1, FL_src , '--r')\n",
    "plt.plot(x2, NY_FL_tgt , '--c')\n",
    "plt.plot(x3, CA_FL_tgt , '--b')\n",
    "plt.xlabel('Number of Epochs',fontsize=15)\n",
    "plt.ylabel('Accuracy (%)',fontsize=15)\n",
    "plt.legend([' FL training from scratch','FL adapt from NY','FL adapt from CA'],fontsize=15)\n",
    "plt.savefig('FL.png')\n",
    "plt.clf()"
   ]
  },
  {
   "cell_type": "code",
   "execution_count": null,
   "id": "7d3588b4",
   "metadata": {},
   "outputs": [],
   "source": []
  }
 ],
 "metadata": {
  "kernelspec": {
   "display_name": "Python 3 (ipykernel)",
   "language": "python",
   "name": "python3"
  },
  "language_info": {
   "codemirror_mode": {
    "name": "ipython",
    "version": 3
   },
   "file_extension": ".py",
   "mimetype": "text/x-python",
   "name": "python",
   "nbconvert_exporter": "python",
   "pygments_lexer": "ipython3",
   "version": "3.9.16"
  }
 },
 "nbformat": 4,
 "nbformat_minor": 5
}
